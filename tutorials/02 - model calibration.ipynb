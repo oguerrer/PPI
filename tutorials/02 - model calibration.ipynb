{
 "cells": [
  {
   "cell_type": "markdown",
   "id": "af4bfe6e",
   "metadata": {},
   "source": [
    "# <center>Model calibration</center>\n",
    "\n",
    "Prepared by Omar A. Guerrero (oguerrero@turing.ac.uk, <a href=\"https://twitter.com/guerrero_oa\">@guerrero_oa</a>)\n",
    "\n",
    "In this tutorial I will calibrate the free parameters of PPI's model. First, I will load all the data that I have prepared in the previous tutorials. Then, I extract the relevant information and put it in adequate data structures. Finally, I run the calibration function and save the results with the parameter values."
   ]
  },
  {
   "cell_type": "markdown",
   "id": "0077e294",
   "metadata": {},
   "source": [
    "## Importing Python libraries to manipulate data"
   ]
  },
  {
   "cell_type": "code",
   "execution_count": 7,
   "id": "fb9d93d1",
   "metadata": {},
   "outputs": [],
   "source": [
    "import pandas as pd\n",
    "import numpy as np\n",
    "import multiprocessing"
   ]
  },
  {
   "cell_type": "markdown",
   "id": "5f56449b",
   "metadata": {},
   "source": [
    "## Importing PPI functions\n",
    "\n",
    "In this tutorial, I will import the PPI source code directly from its repository. This means that I will place a request to GitHub, download the `policy_priority_inference.py` file, and copy it locally into the folder where these tutorials are saved. Then, I will import PPI. This approach is useful if you want to run this tutorial in a cloud computing service.\n",
    "\n",
    "An alternative would be to manually copy the `policy_priority_inference.py` file into the folder where this tutorial is located."
   ]
  },
  {
   "cell_type": "code",
   "execution_count": 2,
   "id": "88cfa647",
   "metadata": {},
   "outputs": [],
   "source": [
    "import requests # the Python library that helps placing requests to websites\n",
    "url = 'https://raw.githubusercontent.com/oguerrer/ppi/main/source_code/policy_priority_inference.py'\n",
    "r = requests.get(url)\n",
    "with open('policy_priority_inference.py', 'w') as f:\n",
    "    f.write(r.text)\n",
    "import policy_priority_inference as ppi"
   ]
  },
  {
   "cell_type": "markdown",
   "id": "4e2963d9",
   "metadata": {},
   "source": [
    "## Load data"
   ]
  },
  {
   "cell_type": "markdown",
   "id": "f642dd32",
   "metadata": {},
   "source": [
    "### Indicators"
   ]
  },
  {
   "cell_type": "code",
   "execution_count": 3,
   "id": "9e07398c",
   "metadata": {},
   "outputs": [],
   "source": [
    "df_indis = pd.read_csv('https://raw.githubusercontent.com/oguerrer/ppi/main/tutorials/clean_data/data_indicators.csv')\n",
    "\n",
    "N = len(df_indis) # number of indicators\n",
    "I0 = df_indis.I0.values # initial values\n",
    "IF = df_indis.IF.values # final values\n",
    "success_rates = df_indis.successRates.values # success rates\n",
    "R = df_indis.instrumental # instrumental indicators\n",
    "qm = df_indis.qm.values # quality of monitoring\n",
    "rl = df_indis.rl.values # quality of the rule of law\n",
    "indis_index = dict([(code, i) for i, code in enumerate(df_indis.seriesCode)]) # used to build the network matrix"
   ]
  },
  {
   "cell_type": "markdown",
   "id": "49f8cf95",
   "metadata": {},
   "source": [
    "### Interdependency network"
   ]
  },
  {
   "cell_type": "code",
   "execution_count": 4,
   "id": "2cb786f7",
   "metadata": {},
   "outputs": [],
   "source": [
    "df_net = pd.read_csv('https://raw.githubusercontent.com/oguerrer/ppi/main/tutorials/clean_data/data_network.csv')\n",
    "\n",
    "A = np.zeros((N, N)) # adjacency matrix\n",
    "for index, row in df_net.iterrows():\n",
    "    i = indis_index[row.origin]\n",
    "    j = indis_index[row.destination]\n",
    "    w = row.weight\n",
    "    A[i,j] = w"
   ]
  },
  {
   "cell_type": "markdown",
   "id": "f69236e0",
   "metadata": {},
   "source": [
    "### Budget"
   ]
  },
  {
   "cell_type": "code",
   "execution_count": 5,
   "id": "8b9779e8",
   "metadata": {},
   "outputs": [],
   "source": [
    "df_exp = pd.read_csv('https://raw.githubusercontent.com/oguerrer/ppi/main/tutorials/clean_data/data_expenditure.csv')\n",
    "\n",
    "Bs = df_exp.values[:,1::] # disbursement schedule (assumes that the expenditure programmes are properly sorted)"
   ]
  },
  {
   "cell_type": "markdown",
   "id": "ed4e8a07",
   "metadata": {},
   "source": [
    "### Budget-indicator mapping"
   ]
  },
  {
   "cell_type": "code",
   "execution_count": 6,
   "id": "007a8c6e",
   "metadata": {},
   "outputs": [],
   "source": [
    "df_rela = pd.read_csv('https://raw.githubusercontent.com/oguerrer/ppi/main/tutorials/clean_data/data_relational_table.csv')\n",
    "\n",
    "B_dict = {} # PPI needs the relational table in the form of a Python dictionary\n",
    "for index, row in df_rela.iterrows():\n",
    "    B_dict[indis_index[row.seriesCode]] = [programme for programme in row.values[1::][row.values[1::].astype(str)!='nan']]"
   ]
  },
  {
   "cell_type": "markdown",
   "id": "3c410c35",
   "metadata": {},
   "source": [
    "## Calibrate\n",
    "\n",
    "Now I run the calibration function to show that it works. Before that, let me explain a couple of new inputs that the user needs to provide:\n",
    "\n",
    "* <strong>threshold</strong>: How well should the model be fit.\n",
    "* <strong>parallel_processes</strong>: The number of processes (workers) to be ran in parallel.\n",
    "* <strong>verbose</strong>: Whether to print or not the outputs as the calibration progresses.\n",
    "* <strong>low_precision_counts</strong>: The number of iterations that use few Monte Carlo simulations.\n",
    "\n",
    "The <strong>threshold</strong> parameter indicates the quality of the goodness of fit. More specifically, how good should the worst-fitted indicator be. The best possible fit is close to 1, but cannot be exactly 1 due to the stochasticity of the model. The higher the threshold, the mode Monte Carlo simulations are needed and, thus, the more time and computational resources are needed to complete the calibration.\n",
    "\n",
    "Parameter <strong>parallel_processes</strong> is used to enhance efficiency. Since each Monte Carlo simulation is independent of each other, this workload can be distributed across multiple cores or processors. Today, most personal devices have the capability of handling this distributed load, so here I show how to calibrate the model using 4 parallel processes. It is recommended that you know how many cores or processors your equipment has, and that <strong>parallel_processes</strong> does not exceed that number. Otherwise, the performance of the calibration may be sub-optimal.\n",
    "\n",
    "Finally, the <strong>low_precision_counts</strong> parameter helps accelerating the calibration. At the beginning of the calibration, the algorithm proposes a random set of parameters for the model. Because this proposal is unrelated to the true parameters, the errors tend to be large. In the presence of large errors, one can improve the goodness of fit without needing too much precision in each evaluation (i.e., without running too many Monte Carlo simulations). Hence, this parameter determines how many low-precision iterations of the algorithm should be run before proceeding to the high-precision ones. This accelerates the calibration procedure substantially."
   ]
  },
  {
   "cell_type": "code",
   "execution_count": 13,
   "id": "0970d585",
   "metadata": {},
   "outputs": [
    {
     "name": "stdout",
     "output_type": "stream",
     "text": [
      "Iteration: 1 .    Worst goodness of fit: -356999.9999992858\n",
      "Iteration: 2 .    Worst goodness of fit: -107999.9999997839\n",
      "Iteration: 3 .    Worst goodness of fit: -18162.870689667605\n",
      "Iteration: 4 .    Worst goodness of fit: -162068.31249967575\n",
      "Iteration: 5 .    Worst goodness of fit: -12513.624999974958\n",
      "Iteration: 6 .    Worst goodness of fit: -25154.296874949672\n",
      "Iteration: 7 .    Worst goodness of fit: -3107.5096982779896\n",
      "Iteration: 8 .    Worst goodness of fit: -9294.433593731403\n",
      "Iteration: 9 .    Worst goodness of fit: -2672.621582025898\n",
      "Iteration: 10 .    Worst goodness of fit: -3070.1293945251077\n",
      "Iteration: 11 .    Worst goodness of fit: -726.5995483383858\n",
      "Iteration: 12 .    Worst goodness of fit: -1170.7649230933607\n",
      "Iteration: 13 .    Worst goodness of fit: -477.01248931788916\n",
      "Iteration: 14 .    Worst goodness of fit: -497.43604659934664\n",
      "Iteration: 15 .    Worst goodness of fit: -90.81301498394517\n",
      "Iteration: 16 .    Worst goodness of fit: -167.37627983059772\n",
      "Iteration: 17 .    Worst goodness of fit: -36.42224180690708\n",
      "Iteration: 18 .    Worst goodness of fit: -70.9784924982558\n",
      "Iteration: 19 .    Worst goodness of fit: -17.834382459481613\n",
      "Iteration: 20 .    Worst goodness of fit: -24.307200685094838\n",
      "Iteration: 21 .    Worst goodness of fit: -7.472659090514901\n",
      "Iteration: 22 .    Worst goodness of fit: -8.104691631144457\n",
      "Iteration: 23 .    Worst goodness of fit: 0.3553456550031233\n",
      "Iteration: 24 .    Worst goodness of fit: -2.3849792600165527\n",
      "Iteration: 25 .    Worst goodness of fit: 0.18792279957901936\n",
      "Iteration: 26 .    Worst goodness of fit: -1.115428000888539\n",
      "Iteration: 27 .    Worst goodness of fit: 0.20144053021963315\n",
      "Iteration: 28 .    Worst goodness of fit: 0.2716625388716979\n",
      "Iteration: 29 .    Worst goodness of fit: 0.5556516617870685\n",
      "Iteration: 30 .    Worst goodness of fit: 0.07623929380264927\n",
      "Iteration: 31 .    Worst goodness of fit: 0.1541116974288681\n",
      "Iteration: 32 .    Worst goodness of fit: 0.4182379496297065\n",
      "Iteration: 33 .    Worst goodness of fit: 0.5269724968586827\n",
      "Iteration: 34 .    Worst goodness of fit: 0.5062932945046645\n",
      "Iteration: 35 .    Worst goodness of fit: -0.14768102575492525\n",
      "Iteration: 36 .    Worst goodness of fit: 0.226580251608139\n",
      "Iteration: 37 .    Worst goodness of fit: 0.5120911008532554\n",
      "Iteration: 38 .    Worst goodness of fit: 0.49535107436693393\n",
      "Iteration: 39 .    Worst goodness of fit: 0.4139716838248968\n",
      "Iteration: 40 .    Worst goodness of fit: 0.4409883776312682\n",
      "Iteration: 41 .    Worst goodness of fit: 0.5199623350477292\n",
      "Iteration: 42 .    Worst goodness of fit: 0.688319355641119\n",
      "Iteration: 43 .    Worst goodness of fit: 0.42669710128124283\n",
      "Iteration: 44 .    Worst goodness of fit: 0.6005400205501519\n",
      "Iteration: 45 .    Worst goodness of fit: 0.5933838130736216\n",
      "Iteration: 46 .    Worst goodness of fit: 0.554481552942099\n",
      "Iteration: 47 .    Worst goodness of fit: 0.33606097294850457\n",
      "Iteration: 48 .    Worst goodness of fit: 0.5675887788312035\n",
      "Iteration: 49 .    Worst goodness of fit: 0.6031212889845172\n",
      "Iteration: 50 .    Worst goodness of fit: 0.5856569327118826\n",
      "Iteration: 51 .    Worst goodness of fit: 0.583727186716775\n",
      "Iteration: 52 .    Worst goodness of fit: 0.765987565055204\n"
     ]
    }
   ],
   "source": [
    "T = Bs.shape[1]\n",
    "parallel_processes = multiprocessing.cpu_count() # number of cores to use\n",
    "threshold = 0.6 # the quality of the calibration (I choose a medium quality for illustration purposes)\n",
    "low_precision_counts = 50 # number of low-quality iterations to accelerate the calibration\n",
    "\n",
    "parameters = ppi.calibrate(I0, IF, success_rates, A=A, R=R, qm=qm, rl=rl,Bs=Bs, B_dict=B_dict,\n",
    "              T=T, threshold=threshold, parallel_processes=parallel_processes, verbose=True,\n",
    "             low_precision_counts=low_precision_counts)"
   ]
  },
  {
   "cell_type": "markdown",
   "id": "b2572ad1",
   "metadata": {},
   "source": [
    "## Calibration outputs\n",
    "\n",
    "The output of the calibration function is a matrix with the following columns:\n",
    "\n",
    "* <strong>alpha</strong>: the parameters related to structural constraints\n",
    "* <strong>alpha_prime</strong>: the parameters related to structural costs\n",
    "* <strong>beta</strong>: the parameters related to the probability of success\n",
    "* <strong>T</strong>: the number of simulation periods\n",
    "* <strong>error_alpha</strong>: the errors associated to the parameters $\\alpha$ and $\\alpha'$\n",
    "* <strong>error_beta</strong>: the errors associated to the parameters $\\beta$\n",
    "* <strong>GoF_alpha</strong>: the goodness-of-fit associated to the parameters $\\alpha$ and $\\alpha'$\n",
    "* <strong>GoF_beta</strong>: the goodness-of-fit associated to the parameters $\\beta$\n",
    "\n",
    "The top row of this matrix contains the column names, so I just need to transform these data into a DataFrame to export it."
   ]
  },
  {
   "cell_type": "code",
   "execution_count": 14,
   "id": "f3b9a271",
   "metadata": {},
   "outputs": [],
   "source": [
    "df_params = pd.DataFrame(parameters[1::], columns=parameters[0])"
   ]
  },
  {
   "cell_type": "code",
   "execution_count": 15,
   "id": "e2426f52",
   "metadata": {},
   "outputs": [
    {
     "data": {
      "text/html": [
       "<div>\n",
       "<style scoped>\n",
       "    .dataframe tbody tr th:only-of-type {\n",
       "        vertical-align: middle;\n",
       "    }\n",
       "\n",
       "    .dataframe tbody tr th {\n",
       "        vertical-align: top;\n",
       "    }\n",
       "\n",
       "    .dataframe thead th {\n",
       "        text-align: right;\n",
       "    }\n",
       "</style>\n",
       "<table border=\"1\" class=\"dataframe\">\n",
       "  <thead>\n",
       "    <tr style=\"text-align: right;\">\n",
       "      <th></th>\n",
       "      <th>alpha</th>\n",
       "      <th>alpha_prime</th>\n",
       "      <th>beta</th>\n",
       "      <th>T</th>\n",
       "      <th>error_alpha</th>\n",
       "      <th>error_beta</th>\n",
       "      <th>GoF_alpha</th>\n",
       "      <th>GoF_beta</th>\n",
       "    </tr>\n",
       "  </thead>\n",
       "  <tbody>\n",
       "    <tr>\n",
       "      <th>0</th>\n",
       "      <td>0.001133245803225464</td>\n",
       "      <td>0.0007173762481386406</td>\n",
       "      <td>0.24241409890285115</td>\n",
       "      <td>69</td>\n",
       "      <td>7.590668121271182e-05</td>\n",
       "      <td>0.0007531993342749926</td>\n",
       "      <td>0.9979937255954184</td>\n",
       "      <td>0.9917148073229751</td>\n",
       "    </tr>\n",
       "    <tr>\n",
       "      <th>1</th>\n",
       "      <td>0.020458032143704483</td>\n",
       "      <td>0.007079263090817033</td>\n",
       "      <td>0.0848783259666791</td>\n",
       "      <td>nan</td>\n",
       "      <td>-0.0008694787331604004</td>\n",
       "      <td>0.00036435186515682005</td>\n",
       "      <td>0.9977300001428565</td>\n",
       "      <td>0.9927129626968636</td>\n",
       "    </tr>\n",
       "    <tr>\n",
       "      <th>2</th>\n",
       "      <td>5.1693076043971075e-05</td>\n",
       "      <td>1.3811444084734423e-07</td>\n",
       "      <td>0.09593643744592241</td>\n",
       "      <td>nan</td>\n",
       "      <td>7.540400681549375e-05</td>\n",
       "      <td>0.0011786988454745018</td>\n",
       "      <td>0.765987565055204</td>\n",
       "      <td>0.9870343126997805</td>\n",
       "    </tr>\n",
       "    <tr>\n",
       "      <th>3</th>\n",
       "      <td>0.0005761690086828743</td>\n",
       "      <td>5.948271547088215e-06</td>\n",
       "      <td>0.45278488598703287</td>\n",
       "      <td>nan</td>\n",
       "      <td>0.0016094993539530478</td>\n",
       "      <td>0.007174241233964651</td>\n",
       "      <td>0.8659981042465701</td>\n",
       "      <td>0.9774523846932539</td>\n",
       "    </tr>\n",
       "    <tr>\n",
       "      <th>4</th>\n",
       "      <td>0.0031935781830767103</td>\n",
       "      <td>5.352177775543664e-05</td>\n",
       "      <td>0.630040148291449</td>\n",
       "      <td>nan</td>\n",
       "      <td>0.0008916166336202513</td>\n",
       "      <td>0.0029821886752324223</td>\n",
       "      <td>0.9906708133621611</td>\n",
       "      <td>0.9934391849144887</td>\n",
       "    </tr>\n",
       "    <tr>\n",
       "      <th>...</th>\n",
       "      <td>...</td>\n",
       "      <td>...</td>\n",
       "      <td>...</td>\n",
       "      <td>...</td>\n",
       "      <td>...</td>\n",
       "      <td>...</td>\n",
       "      <td>...</td>\n",
       "      <td>...</td>\n",
       "    </tr>\n",
       "    <tr>\n",
       "      <th>67</th>\n",
       "      <td>9.713561676005822e-05</td>\n",
       "      <td>1.9385719657236186e-05</td>\n",
       "      <td>1.2396820634166306</td>\n",
       "      <td>nan</td>\n",
       "      <td>6.840147565778665e-05</td>\n",
       "      <td>-0.003719733677633008</td>\n",
       "      <td>0.9865879459494535</td>\n",
       "      <td>0.9954536588384485</td>\n",
       "    </tr>\n",
       "    <tr>\n",
       "      <th>68</th>\n",
       "      <td>0.0017893447953184556</td>\n",
       "      <td>2.030241751547041e-05</td>\n",
       "      <td>0.30940965430059897</td>\n",
       "      <td>nan</td>\n",
       "      <td>0.002248920962028389</td>\n",
       "      <td>0.001570757429969094</td>\n",
       "      <td>0.9140118455695029</td>\n",
       "      <td>0.9930886673081359</td>\n",
       "    </tr>\n",
       "    <tr>\n",
       "      <th>69</th>\n",
       "      <td>0.0012896708569835869</td>\n",
       "      <td>0.0002254663424906005</td>\n",
       "      <td>1.127350357474036</td>\n",
       "      <td>nan</td>\n",
       "      <td>-0.003079506636798124</td>\n",
       "      <td>0.003278035523098688</td>\n",
       "      <td>0.9483304255570785</td>\n",
       "      <td>0.9954927011557393</td>\n",
       "    </tr>\n",
       "    <tr>\n",
       "      <th>70</th>\n",
       "      <td>0.007772478668108582</td>\n",
       "      <td>0.0005000410330631608</td>\n",
       "      <td>0.9027422007339055</td>\n",
       "      <td>nan</td>\n",
       "      <td>-0.005955435783710938</td>\n",
       "      <td>-0.003325886245951093</td>\n",
       "      <td>0.980084374817598</td>\n",
       "      <td>0.9943715771222366</td>\n",
       "    </tr>\n",
       "    <tr>\n",
       "      <th>71</th>\n",
       "      <td>1.4905865309032913e-07</td>\n",
       "      <td>0.005704042902892695</td>\n",
       "      <td>1.4132095232417021</td>\n",
       "      <td>nan</td>\n",
       "      <td>-0.007721776059720242</td>\n",
       "      <td>-0.0039773797160886915</td>\n",
       "      <td>0.8925341984637188</td>\n",
       "      <td>0.9953946129603184</td>\n",
       "    </tr>\n",
       "  </tbody>\n",
       "</table>\n",
       "<p>72 rows × 8 columns</p>\n",
       "</div>"
      ],
      "text/plain": [
       "                     alpha             alpha_prime                 beta    T  \\\n",
       "0     0.001133245803225464   0.0007173762481386406  0.24241409890285115   69   \n",
       "1     0.020458032143704483    0.007079263090817033   0.0848783259666791  nan   \n",
       "2   5.1693076043971075e-05  1.3811444084734423e-07  0.09593643744592241  nan   \n",
       "3    0.0005761690086828743   5.948271547088215e-06  0.45278488598703287  nan   \n",
       "4    0.0031935781830767103   5.352177775543664e-05    0.630040148291449  nan   \n",
       "..                     ...                     ...                  ...  ...   \n",
       "67   9.713561676005822e-05  1.9385719657236186e-05   1.2396820634166306  nan   \n",
       "68   0.0017893447953184556   2.030241751547041e-05  0.30940965430059897  nan   \n",
       "69   0.0012896708569835869   0.0002254663424906005    1.127350357474036  nan   \n",
       "70    0.007772478668108582   0.0005000410330631608   0.9027422007339055  nan   \n",
       "71  1.4905865309032913e-07    0.005704042902892695   1.4132095232417021  nan   \n",
       "\n",
       "               error_alpha              error_beta           GoF_alpha  \\\n",
       "0    7.590668121271182e-05   0.0007531993342749926  0.9979937255954184   \n",
       "1   -0.0008694787331604004  0.00036435186515682005  0.9977300001428565   \n",
       "2    7.540400681549375e-05   0.0011786988454745018   0.765987565055204   \n",
       "3    0.0016094993539530478    0.007174241233964651  0.8659981042465701   \n",
       "4    0.0008916166336202513   0.0029821886752324223  0.9906708133621611   \n",
       "..                     ...                     ...                 ...   \n",
       "67   6.840147565778665e-05   -0.003719733677633008  0.9865879459494535   \n",
       "68    0.002248920962028389    0.001570757429969094  0.9140118455695029   \n",
       "69   -0.003079506636798124    0.003278035523098688  0.9483304255570785   \n",
       "70   -0.005955435783710938   -0.003325886245951093   0.980084374817598   \n",
       "71   -0.007721776059720242  -0.0039773797160886915  0.8925341984637188   \n",
       "\n",
       "              GoF_beta  \n",
       "0   0.9917148073229751  \n",
       "1   0.9927129626968636  \n",
       "2   0.9870343126997805  \n",
       "3   0.9774523846932539  \n",
       "4   0.9934391849144887  \n",
       "..                 ...  \n",
       "67  0.9954536588384485  \n",
       "68  0.9930886673081359  \n",
       "69  0.9954927011557393  \n",
       "70  0.9943715771222366  \n",
       "71  0.9953946129603184  \n",
       "\n",
       "[72 rows x 8 columns]"
      ]
     },
     "execution_count": 15,
     "metadata": {},
     "output_type": "execute_result"
    }
   ],
   "source": [
    "df_params"
   ]
  },
  {
   "cell_type": "markdown",
   "id": "99a69b6e",
   "metadata": {},
   "source": [
    "## Save parameters data"
   ]
  },
  {
   "cell_type": "code",
   "execution_count": null,
   "id": "28fbf495",
   "metadata": {},
   "outputs": [],
   "source": [
    "df_params.to_csv('clean_data/parameters.csv', index=False)"
   ]
  }
 ],
 "metadata": {
  "kernelspec": {
   "display_name": "ppi",
   "language": "python",
   "name": "python3"
  },
  "language_info": {
   "codemirror_mode": {
    "name": "ipython",
    "version": 3
   },
   "file_extension": ".py",
   "mimetype": "text/x-python",
   "name": "python",
   "nbconvert_exporter": "python",
   "pygments_lexer": "ipython3",
   "version": "3.9.12"
  },
  "vscode": {
   "interpreter": {
    "hash": "aac27745a3d5c292241616da168a96abe106c40ebe4587c0be17efc266d0d61a"
   }
  }
 },
 "nbformat": 4,
 "nbformat_minor": 5
}
